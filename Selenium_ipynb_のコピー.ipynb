{
  "nbformat": 4,
  "nbformat_minor": 0,
  "metadata": {
    "colab": {
      "name": "Selenium.ipynb のコピー",
      "version": "0.3.2",
      "provenance": [],
      "include_colab_link": true
    },
    "kernelspec": {
      "display_name": "Python 3",
      "language": "python",
      "name": "python3"
    }
  },
  "cells": [
    {
      "cell_type": "markdown",
      "metadata": {
        "id": "view-in-github",
        "colab_type": "text"
      },
      "source": [
        "<a href=\"https://colab.research.google.com/github/hirom/python_scripts/blob/master/Selenium_ipynb_%E3%81%AE%E3%82%B3%E3%83%94%E3%83%BC.ipynb\" target=\"_parent\"><img src=\"https://colab.research.google.com/assets/colab-badge.svg\" alt=\"Open In Colab\"/></a>"
      ]
    },
    {
      "metadata": {
        "id": "KMemOPghfj1t",
        "colab_type": "text"
      },
      "cell_type": "markdown",
      "source": [
        "# 動的 Web サイトのスクレイピング"
      ]
    },
    {
      "metadata": {
        "id": "qth0zIt4fj11",
        "colab_type": "text"
      },
      "cell_type": "markdown",
      "source": [
        "Yahoo news のトピックス一覧から、記事のタイトルを抜き出すことができた次は、EDINET を例にとりましょう。\n",
        "\n",
        "EDINET で有価証券報告書を見れる会社の沿革が書いてある HTML 文書を保存しようと思います。\n",
        "\n",
        "1. まず下準備として、[EDINET](http://disclosure.edinet-fsa.go.jp/) のサイトにアクセスします。\n",
        "2. `書類検索` をクリックします。\n",
        "3. 画面左の `全文検索` をクリックします。\n",
        "4. 文字列に `沿革` と入力します。\n",
        "5. 書類情報を指定するのところで、`書類種別を指定する` をクリックします。`有価証券報告書` にチェックをします。\n",
        "6. `書類の目次範囲を指定する` をクリックし、大分類の最初の項を選択し、小分類の最初の項を選択します。\n",
        "7. 検索をクリックします。\n",
        "\n",
        "新しいページが開いたら、そのページの URL をコピーします。\n",
        "URL は次のようになるでしょう。\n",
        "\n",
        "ここが、今回のスタート地点です。"
      ]
    },
    {
      "metadata": {
        "id": "B1M2Qurafj17",
        "colab_type": "code",
        "colab": {}
      },
      "cell_type": "code",
      "source": [
        "url = 'https://disclosure.edinet-fsa.go.jp/E01EW/BLMainController.jsp?uji.verb=W1E63031Search&uji.bean=ee.bean.W1E63030.EEW1E63031Bean&PID=W1E63030&TID=W1E63031&SESSIONKEY=1505008790454&stype=0&dcdSelect=12001&hcdSelect=01001&ycdSelect=03001400&tsbSdt=&kbn=1&lgKbn=2&pkbn=0&skbn=1&dskb=&askb=&dflg=0&iflg=0&preId=1&chr=%E6%B2%BF%E9%9D%A9&hbn=true&spf5=2&otd=12001&hcd=01001&ycd=03001400&sec=&scc=&snm=&spf1=1&spf2=1&iec=&icc=&inm=&spf3=1&fdc=&fnm=&spf4=1&cal=1&era=H&yer=&mon=&psr=1&pid=4'"
      ],
      "execution_count": 0,
      "outputs": []
    },
    {
      "metadata": {
        "id": "GcusCBgzfj2O",
        "colab_type": "text"
      },
      "cell_type": "markdown",
      "source": [
        "![](https://github.com/takahiromiura/github.io_files/blob/master/image/EDINET.png?raw=1)"
      ]
    },
    {
      "metadata": {
        "id": "C7CJrmBJfj2T",
        "colab_type": "text"
      },
      "cell_type": "markdown",
      "source": [
        "このページでは、有価証券報告書が企業別に並んでいます。\n",
        "それでは、最初の `KISCO株式会社` の有価証券報告書をクリックしてみましょう。"
      ]
    },
    {
      "metadata": {
        "id": "MgXhDLb4fj2W",
        "colab_type": "text"
      },
      "cell_type": "markdown",
      "source": [
        "![](https://github.com/takahiromiura/github.io_files/blob/master/image/EDINET_window.png?raw=1)"
      ]
    },
    {
      "metadata": {
        "id": "RaxUyCAlfj2c",
        "colab_type": "text"
      },
      "cell_type": "markdown",
      "source": [
        "小さなウインドウが新たに開きました。\n",
        "\n",
        "このサイトは、クリックするとページの一部分が開いたり、新しいウインドウが開いたりしています。\n",
        "これは、 `JavaScript` という言語によるものです。ユーザーがページをクリックするなどによって、ページの内容が変わるような Web サイトを **動的 Web サイト** と呼びます。一方、最初から全てのコンテンツがページに表示されているものは **静的 Web サイト** と呼びます。"
      ]
    },
    {
      "metadata": {
        "id": "K3-t6M5nfj2h",
        "colab_type": "text"
      },
      "cell_type": "markdown",
      "source": [
        "## Selenium"
      ]
    },
    {
      "metadata": {
        "id": "JFGAgkDYfj2k",
        "colab_type": "text"
      },
      "cell_type": "markdown",
      "source": [
        "動的 Web サイトをスクレイピングするには、`JavaScript` に対処しなければいけません。ここでは、 `Selenium` を使いましょう。Selenium は元は自動テスト用に作られたもので、ブラウザ上のコンテンツをクリックする、検索バーにキーを入力するなどを自動で行ってくれます。\n",
        "\n",
        "まず、Google Chrome のブラウザを自動で動かすドライバーを[ここから](https://sites.google.com/a/chromium.org/chromedriver/downloads)ダウンロードします。ダウンロードしたら、参照しやすい場所に置いておきます。\n",
        "\n",
        "また、`pip install selenium` で selenium の python 用モジュールをインストールしておいてください。"
      ]
    },
    {
      "metadata": {
        "id": "JJWedeuvfj2o",
        "colab_type": "text"
      },
      "cell_type": "markdown",
      "source": [
        "ブラウザを立ち上げます。アラートが出る場合は、`続行` を押してください。"
      ]
    },
    {
      "metadata": {
        "id": "UkkksblKfj2v",
        "colab_type": "code",
        "colab": {}
      },
      "cell_type": "code",
      "source": [
        "from selenium import webdriver\n",
        "browser = webdriver.Chrome()"
      ],
      "execution_count": 0,
      "outputs": []
    },
    {
      "metadata": {
        "id": "a1JKQUEPfj24",
        "colab_type": "text"
      },
      "cell_type": "markdown",
      "source": [
        "次の作業に移る前に、少し待ちましょう。\n",
        "すぐに次の作業に移ってしまうと、まだコンテンツが出ていないのに作業を行ってしまい、エラーが起こりやすくなります。`implicitly_wait` で指定した秒まで、要素が出るまで待ちます。"
      ]
    },
    {
      "metadata": {
        "id": "EuOrGdWxfj27",
        "colab_type": "code",
        "colab": {}
      },
      "cell_type": "code",
      "source": [
        "browser.implicitly_wait(10)"
      ],
      "execution_count": 0,
      "outputs": []
    },
    {
      "metadata": {
        "id": "dewlmdKifj3M",
        "colab_type": "text"
      },
      "cell_type": "markdown",
      "source": [
        "先程の URL にアクセスします。"
      ]
    },
    {
      "metadata": {
        "id": "ORnPnwM4fj3Q",
        "colab_type": "code",
        "colab": {}
      },
      "cell_type": "code",
      "source": [
        "browser.get(url)"
      ],
      "execution_count": 0,
      "outputs": []
    },
    {
      "metadata": {
        "id": "SeAz1n9nfj3d",
        "colab_type": "text"
      },
      "cell_type": "markdown",
      "source": [
        "サイトのタイトルが　`EDINET` であることを `assert` を使って確かめます。\n",
        "違う場合はエラーが返ってきます。"
      ]
    },
    {
      "metadata": {
        "id": "7ZE0GYYOfj3h",
        "colab_type": "code",
        "colab": {}
      },
      "cell_type": "code",
      "source": [
        "assert 'EDINET' in browser.title"
      ],
      "execution_count": 0,
      "outputs": []
    },
    {
      "metadata": {
        "id": "0OtEhEPAfj3r",
        "colab_type": "text"
      },
      "cell_type": "markdown",
      "source": [
        "Selenium でも CSS セレクタが使えます。まずは、有価証券報告書のリンクをクリックします。\n",
        "有価証券報告書、企業名は sytle_pb_after というクラスの要素の中の a 要素にあることがわかります。 `find_elements_by_css_selector` は指定した要素のリストを返します。"
      ]
    },
    {
      "metadata": {
        "id": "q9nA87QPfj30",
        "colab_type": "text"
      },
      "cell_type": "markdown",
      "source": [
        "![](https://github.com/takahiromiura/github.io_files/blob/master/image/EDINET_report.png?raw=1)"
      ]
    },
    {
      "metadata": {
        "id": "dbXFWy3ifj37",
        "colab_type": "code",
        "colab": {}
      },
      "cell_type": "code",
      "source": [
        "links = browser.find_elements_by_css_selector('.table_border_1 > a')"
      ],
      "execution_count": 0,
      "outputs": []
    },
    {
      "metadata": {
        "id": "d-0Pn7I4fj4E",
        "colab_type": "text"
      },
      "cell_type": "markdown",
      "source": [
        "リストは、A 社の有価証券報告書、A 社の企業名、B 社の有価証券報告書、B 社の企業名、... 、\n",
        "という順番になっています。\n",
        "最初のリンクをクリックする前に、クリックする企業名を保存しておきます。"
      ]
    },
    {
      "metadata": {
        "id": "N7r8U3uhfj4J",
        "colab_type": "code",
        "outputId": "04fda710-2429-416b-cc5e-4d583b5cd2ff",
        "colab": {}
      },
      "cell_type": "code",
      "source": [
        "company_name = links[1].text\n",
        "company_name"
      ],
      "execution_count": 0,
      "outputs": [
        {
          "output_type": "execute_result",
          "data": {
            "text/plain": [
              "'ＫＩＳＣＯ株式会社'"
            ]
          },
          "metadata": {
            "tags": []
          },
          "execution_count": 7
        }
      ]
    },
    {
      "metadata": {
        "id": "vrrQhuUwfj4W",
        "colab_type": "text"
      },
      "cell_type": "markdown",
      "source": [
        "`click` を使うと、マウスのクリックをしたことになります。\n",
        "KISCO 株式会社の有価証券報告書を指定してから、クリックをしてみます。"
      ]
    },
    {
      "metadata": {
        "id": "wRdn2c_Jfj4a",
        "colab_type": "code",
        "colab": {}
      },
      "cell_type": "code",
      "source": [
        "links[0].click()"
      ],
      "execution_count": 0,
      "outputs": []
    },
    {
      "metadata": {
        "id": "Q_SZvvK7fj4s",
        "colab_type": "text"
      },
      "cell_type": "markdown",
      "source": [
        "新しいウインドウが出ましたね。新しいウインドウに移るには、`switch_to_window` を使います。\n",
        "`browser.window_handles` はウインドウのリストで、古いウインドウから順にリストに入っています。\n",
        "新しいウインドウは 1 番目の要素ですので、こちらに切り替えます。"
      ]
    },
    {
      "metadata": {
        "id": "vqN0r2cOfj4u",
        "colab_type": "code",
        "colab": {}
      },
      "cell_type": "code",
      "source": [
        "new_window = browser.window_handles[1]\n",
        "browser.switch_to_window(new_window)"
      ],
      "execution_count": 0,
      "outputs": []
    },
    {
      "metadata": {
        "id": "s04_YQ4ifj4y",
        "colab_type": "text"
      },
      "cell_type": "markdown",
      "source": [
        "新しいウインドウに切り替わったので、沿革を表示させるために、左側の適当な場所をクリックしたいです。\n",
        "\n",
        "とりあえず `a` 要素をとってくれば良い気がしますが、ちょっと待ってください。\n",
        "このサイトでは `frame` 要素が使われているようです。frame 要素は現在の HTML の規格（HTML5) には廃止されましたが、それ以前に作られたサイトでは使っているものもあるようですね。"
      ]
    },
    {
      "metadata": {
        "id": "0hw7I3gTfj41",
        "colab_type": "text"
      },
      "cell_type": "markdown",
      "source": [
        "![](https://github.com/takahiromiura/github.io_files/blob/master/image/EDINET_frame.png?raw=1)"
      ]
    },
    {
      "metadata": {
        "id": "5s3ehArvfj45",
        "colab_type": "text"
      },
      "cell_type": "markdown",
      "source": [
        "html は各 frame に入っているので、いうなれば、Web ページが frame 毎に分割されているようなものです。ウインドウを移動したように、各 frame に移動しないと、内部の html を参照することができません。\n",
        "\n",
        "実際に、`a` 要素をとってきても何も指定されません。"
      ]
    },
    {
      "metadata": {
        "id": "T0JTN1Yzfj5J",
        "colab_type": "code",
        "outputId": "538ede5e-263f-44df-fad0-8d25d9ce17b9",
        "colab": {}
      },
      "cell_type": "code",
      "source": [
        "browser.find_elements_by_css_selector('a')"
      ],
      "execution_count": 0,
      "outputs": [
        {
          "output_type": "execute_result",
          "data": {
            "text/plain": [
              "[]"
            ]
          },
          "metadata": {
            "tags": []
          },
          "execution_count": 10
        }
      ]
    },
    {
      "metadata": {
        "id": "x0i5Adicfj5W",
        "colab_type": "text"
      },
      "cell_type": "markdown",
      "source": [
        "`switch_to_frame` を使って frame 間を移動します。\n",
        "\n",
        "このページでは、まず上部と下部で frame が分かれています。\n",
        "クリックしたいのは、下部なので、下部の frame 名 `viewFrame` を指定して、移動します。\n",
        "\n",
        "さらに、下部の frame は左上、左下、右側の 3 つに分かれています。\n",
        "左下の frame 名 `menuFrame2` を指定して、左下に移動します。"
      ]
    },
    {
      "metadata": {
        "id": "r771JhTrfj5a",
        "colab_type": "code",
        "colab": {}
      },
      "cell_type": "code",
      "source": [
        "browser.switch_to_frame(\"viewFrame\")\n",
        "browser.switch_to_frame(\"menuFrame2\")"
      ],
      "execution_count": 0,
      "outputs": []
    },
    {
      "metadata": {
        "id": "POPIFc4Gfj5g",
        "colab_type": "text"
      },
      "cell_type": "markdown",
      "source": [
        "`a` 要素を指定して、0番目（表紙）以外をクリックします。"
      ]
    },
    {
      "metadata": {
        "id": "Qz5vsg13fj5j",
        "colab_type": "code",
        "colab": {}
      },
      "cell_type": "code",
      "source": [
        "browser.find_elements_by_css_selector('a')[1].click()"
      ],
      "execution_count": 0,
      "outputs": []
    },
    {
      "metadata": {
        "id": "g7ug-Z-Bfj6A",
        "colab_type": "text"
      },
      "cell_type": "markdown",
      "source": [
        "無事に企業情報が出てきました。\n",
        "今度は右側の frame に移りたいので、一旦元に戻ってから、右側に移動していきます。"
      ]
    },
    {
      "metadata": {
        "id": "LFfniyvZfj6I",
        "colab_type": "code",
        "colab": {}
      },
      "cell_type": "code",
      "source": [
        "browser.switch_to.default_content()\n",
        "browser.switch_to_frame(\"viewFrame\")\n",
        "browser.switch_to_frame(\"mainFrame\")"
      ],
      "execution_count": 0,
      "outputs": []
    },
    {
      "metadata": {
        "id": "Rr6P2xJyfj6e",
        "colab_type": "text"
      },
      "cell_type": "markdown",
      "source": [
        "各情報は style_pb_after というクラスの要素に入っているので、セレクタで指定します。\n",
        "沿革はその中の 2 番目です。"
      ]
    },
    {
      "metadata": {
        "id": "LJvTDJplfj6h",
        "colab_type": "code",
        "colab": {}
      },
      "cell_type": "code",
      "source": [
        "enkaku = browser.find_elements_by_css_selector('.style_pb_after')[2]"
      ],
      "execution_count": 0,
      "outputs": []
    },
    {
      "metadata": {
        "id": "HR14T7Wgfj6u",
        "colab_type": "text"
      },
      "cell_type": "markdown",
      "source": [
        "沿革かどうか一応確かめましょう。`h3` 要素を指定して、`text` を確認します。"
      ]
    },
    {
      "metadata": {
        "id": "2nLS_lp0fj6z",
        "colab_type": "code",
        "colab": {}
      },
      "cell_type": "code",
      "source": [
        "assert '沿革' in enkaku.find_element_by_css_selector('h3').text"
      ],
      "execution_count": 0,
      "outputs": []
    },
    {
      "metadata": {
        "id": "099OAr8Nfj7M",
        "colab_type": "text"
      },
      "cell_type": "markdown",
      "source": [
        "要素に入っている HTML をとるには、`get_attribute` を使い、`innerHTML` を取り出します。"
      ]
    },
    {
      "metadata": {
        "id": "hoYNP-LXfj7W",
        "colab_type": "code",
        "colab": {}
      },
      "cell_type": "code",
      "source": [
        "enkaku_html = enkaku.get_attribute(\"innerHTML\")"
      ],
      "execution_count": 0,
      "outputs": []
    },
    {
      "metadata": {
        "id": "Vr-5M0Igfj7e",
        "colab_type": "text"
      },
      "cell_type": "markdown",
      "source": [
        "辞書に保存しておきましょう。"
      ]
    },
    {
      "metadata": {
        "id": "7XOMiY4Ffj7i",
        "colab_type": "code",
        "colab": {}
      },
      "cell_type": "code",
      "source": [
        "enkaku_dict = {}\n",
        "enkaku_dict[company_name] = enkaku_html"
      ],
      "execution_count": 0,
      "outputs": []
    },
    {
      "metadata": {
        "id": "nuFAKCBXfj7p",
        "colab_type": "text"
      },
      "cell_type": "markdown",
      "source": [
        "これで、JavaScript のあるサイトから無事 HTML を取り出すことができました！\n",
        "後は、BeautifulSoup などを使って Yahoo news でやったことと同じようにパースするだけです。\n",
        "\n",
        "このように、`Selenium` を使えば、動的 Web サイトから情報を取り出すことも可能です。"
      ]
    }
  ]
}